{
  "cells": [
    {
      "cell_type": "markdown",
      "metadata": {
        "id": "_Jo37dkmSbdp"
      },
      "source": [
        "\n",
        "## **Data Warehousing Analytics for Geospatial Analysis with Python and DuckDB**\n",
        "\n",
        "\n"
      ]
    },
    {
      "cell_type": "markdown",
      "metadata": {
        "id": "OustuyQ38vRU"
      },
      "source": [
        "## **Installing and Loading Packages**\n"
      ]
    },
    {
      "cell_type": "code",
      "execution_count": 1,
      "metadata": {
        "colab": {
          "base_uri": "https://localhost:8080/"
        },
        "id": "ySOvu8Js8vRU",
        "outputId": "05f78c7f-24b1-4702-f4e5-34ed6b90e5cf"
      },
      "outputs": [
        {
          "output_type": "stream",
          "name": "stdout",
          "text": [
            "\u001b[?25l   \u001b[90m━━━━━━━━━━━━━━━━━━━━━━━━━━━━━━━━━━━━━━━━\u001b[0m \u001b[32m0.0/1.6 MB\u001b[0m \u001b[31m?\u001b[0m eta \u001b[36m-:--:--\u001b[0m\r\u001b[2K   \u001b[91m━━━━━━━━━━━━━━━━━━━━━━━\u001b[0m\u001b[91m╸\u001b[0m\u001b[90m━━━━━━━━━━━━━━━━\u001b[0m \u001b[32m0.9/1.6 MB\u001b[0m \u001b[31m28.8 MB/s\u001b[0m eta \u001b[36m0:00:01\u001b[0m\r\u001b[2K   \u001b[91m━━━━━━━━━━━━━━━━━━━━━━━━━━━━━━━━━━━━━━━\u001b[0m\u001b[91m╸\u001b[0m \u001b[32m1.6/1.6 MB\u001b[0m \u001b[31m34.1 MB/s\u001b[0m eta \u001b[36m0:00:01\u001b[0m\r\u001b[2K   \u001b[90m━━━━━━━━━━━━━━━━━━━━━━━━━━━━━━━━━━━━━━━━\u001b[0m \u001b[32m1.6/1.6 MB\u001b[0m \u001b[31m21.5 MB/s\u001b[0m eta \u001b[36m0:00:00\u001b[0m\n",
            "\u001b[?25h"
          ]
        }
      ],
      "source": [
        "# To update a package, run the following command in the terminal or command prompt:\n",
        "# pip install -U package_name\n",
        "\n",
        "# To install an exact version of a package, run the following command in the terminal or command prompt:\n",
        "# !pip install package_name==desired_version\n",
        "\n",
        "# After installing or updating the package, restart the Jupyter Notebook.\n",
        "\n",
        "# Installs the `watermark` package.\n",
        "# This package is used to log the versions of other packages used in this Notebook.\n",
        "!pip install -q -U watermark"
      ]
    },
    {
      "cell_type": "code",
      "execution_count": 2,
      "metadata": {
        "colab": {
          "base_uri": "https://localhost:8080/"
        },
        "id": "9LJLttFV6_PN",
        "outputId": "43ca560a-918c-434f-f642-c6aa3cf1d6c1"
      },
      "outputs": [
        {
          "output_type": "stream",
          "name": "stdout",
          "text": [
            "Overwriting requirements.txt\n"
          ]
        }
      ],
      "source": [
        "%%writefile requirements.txt\n",
        "\n",
        "duckdb\n",
        "geopandas\n",
        "pyarrow"
      ]
    },
    {
      "cell_type": "code",
      "execution_count": 3,
      "metadata": {
        "colab": {
          "base_uri": "https://localhost:8080/"
        },
        "id": "EAV2Fa4IA5eo",
        "outputId": "37b063ea-81be-43af-9040-3c960b542d08"
      },
      "outputs": [
        {
          "output_type": "stream",
          "name": "stdout",
          "text": [
            "Requirement already satisfied: gdal in /usr/local/lib/python3.10/dist-packages (3.6.4)\n"
          ]
        }
      ],
      "source": [
        "pip install gdal\n"
      ]
    },
    {
      "cell_type": "code",
      "execution_count": 4,
      "metadata": {
        "id": "HMHZJP6g8aD5"
      },
      "outputs": [],
      "source": [
        "%pip install -r requirements.txt --quiet"
      ]
    },
    {
      "cell_type": "code",
      "execution_count": 8,
      "metadata": {
        "id": "jd3TUCH47GYo"
      },
      "outputs": [],
      "source": [
        "#1. Imports\n",
        "\n",
        "#1.a. Import the `duckdb` library for querying and managing data.\n",
        "import duckdb\n",
        "\n",
        "#1.b. Import the `geopandas` library for working with geospatial data.\n",
        "import geopandas\n",
        "\n",
        "#1.c. Import the `pyarrow` library for handling data in Apache Arrow format.\n",
        "import pyarrow"
      ]
    },
    {
      "cell_type": "code",
      "execution_count": 5,
      "metadata": {
        "colab": {
          "base_uri": "https://localhost:8080/"
        },
        "id": "y5VgyMDK8vRX",
        "outputId": "01325e21-9fc2-44c3-e44b-280539b8b72e"
      },
      "outputs": [
        {
          "output_type": "stream",
          "name": "stdout",
          "text": [
            "Author: Your_Name\n",
            "\n"
          ]
        }
      ],
      "source": [
        "%reload_ext watermark\n",
        "%watermark -a \"Your_Name\""
      ]
    },
    {
      "cell_type": "markdown",
      "metadata": {
        "id": "jdioujHQ8vRX"
      },
      "source": [
        "## **Installing DuckDB Extensions**"
      ]
    },
    {
      "cell_type": "code",
      "execution_count": 9,
      "metadata": {
        "id": "t2LstEuV8vRX"
      },
      "outputs": [],
      "source": [
        "#2. Installing DuckDB extensions\n",
        "\n",
        "#2.a. Install the `httpfs` extension for handling HTTP file systems.\n",
        "duckdb.sql('INSTALL httpfs')\n",
        "\n",
        "#2.b. Load the `httpfs` extension.\n",
        "duckdb.sql('LOAD httpfs')\n",
        "\n",
        "#2.c. Force install the `spatial` extension from the specified URL.\n",
        "duckdb.sql(\"FORCE INSTALL spatial FROM 'http://nightly-extensions.duckdb.org';\")\n",
        "\n",
        "#2.d. Load the `spatial` extension for geospatial data processing.\n",
        "duckdb.sql('LOAD spatial')"
      ]
    },
    {
      "cell_type": "markdown",
      "metadata": {
        "id": "KoiFe_Po8vRX"
      },
      "source": [
        "The `httpfs` extension allows us to read files directly from S3, while the `spatial` extension, as the name suggests, will be used to execute geospatial queries. Through these commands, we ensure that our DuckDB setup is well-equipped with the necessary extensions for future tasks.\n"
      ]
    },
    {
      "cell_type": "markdown",
      "metadata": {
        "id": "KwQUFGtG8vRY"
      },
      "source": [
        "## **Initializing DuckDB for In-Memory Processing**\n"
      ]
    },
    {
      "cell_type": "code",
      "execution_count": 10,
      "metadata": {
        "id": "N130O9Q_8vRY"
      },
      "outputs": [],
      "source": [
        "#3. Initializing DuckDB for in-memory processing\n",
        "\n",
        "#3.a. Create a DuckDB database instance with in-memory storage.\n",
        "con = duckdb.connect(database=\":memory:\")"
      ]
    },
    {
      "cell_type": "code",
      "execution_count": 11,
      "metadata": {
        "id": "isvgTQJ38GPR"
      },
      "outputs": [],
      "source": [
        "#4. Installing and loading extensions (an alternative to what was shown earlier)\n",
        "\n",
        "#4.a. Install and load the `httpfs` extension.\n",
        "con.install_extension('httpfs')\n",
        "con.load_extension('httpfs')\n",
        "\n",
        "#4.b. Install and load the `spatial` extension.\n",
        "con.install_extension('spatial')\n",
        "con.load_extension('spatial')"
      ]
    },
    {
      "cell_type": "markdown",
      "metadata": {
        "id": "-rC5IPSR8vRY"
      },
      "source": [
        "## **Loading Geospatial Data in GeoParquet Format**\n",
        "\n",
        "See details about the data source in Chapter 11 of the course.\n",
        "\n",
        "Now that DuckDB is configured and ready, the next step is to load spatial data of building locations. The dataset has been partitioned using two different strategies:\n",
        "\n",
        "- **by country**\n",
        "- **by country, sub-partitioned by S2 grid**\n",
        "\n",
        "The sub-partitioning is used to optimize performance when reading GeoParquet files. By setting a limit of 20 million building areas per file, we keep the row group size somewhat optimized. Loading a large GeoParquet file directly is much slower.\n",
        "\n",
        "Let’s start by loading a complete (large) country using a single file:\n"
      ]
    },
    {
      "cell_type": "code",
      "execution_count": 12,
      "metadata": {
        "id": "0CYkeVSa8jJl"
      },
      "outputs": [],
      "source": [
        "#5. S3 file address in the AWS cloud\n",
        "prefix = \"s3://us-west-2.opendata.source.coop/vida/google-microsoft-open-buildings/geoparquet\""
      ]
    },
    {
      "cell_type": "code",
      "execution_count": 13,
      "metadata": {
        "id": "iZcuMyrb8vRY"
      },
      "outputs": [],
      "source": [
        "#6. Partition type\n",
        "partitions = \"by_country\""
      ]
    },
    {
      "cell_type": "code",
      "execution_count": 14,
      "metadata": {
        "id": "iLzBVh6G8vRZ"
      },
      "outputs": [],
      "source": [
        "#7. Country ISO code\n",
        "country_iso = \"BRA\""
      ]
    },
    {
      "cell_type": "markdown",
      "metadata": {
        "id": "52eEOCVh8vRZ"
      },
      "source": [
        "> We created the table with data from Brazil.\n"
      ]
    },
    {
      "cell_type": "code",
      "execution_count": 15,
      "metadata": {
        "colab": {
          "base_uri": "https://localhost:8080/",
          "height": 116,
          "referenced_widgets": [
            "ce7eeea4e8c94fe1b92534823e24d0fe",
            "db1af8c3d83642c8a9792dcf2aa73ffc",
            "d475ed66eea54913b728c9a76f62dd9a"
          ]
        },
        "id": "R2_8cXbk-B2T",
        "outputId": "bec19ac3-1a85-4cb2-dac4-71347ac2d017"
      },
      "outputs": [
        {
          "output_type": "display_data",
          "data": {
            "text/plain": [
              "FloatProgress(value=0.0, layout=Layout(width='auto'), style=ProgressStyle(bar_color='black'))"
            ],
            "application/vnd.jupyter.widget-view+json": {
              "version_major": 2,
              "version_minor": 0,
              "model_id": "ce7eeea4e8c94fe1b92534823e24d0fe"
            }
          },
          "metadata": {}
        },
        {
          "output_type": "stream",
          "name": "stdout",
          "text": [
            "CPU times: user 4min 46s, sys: 1min 13s, total: 6min\n",
            "Wall time: 46min 53s\n"
          ]
        },
        {
          "output_type": "execute_result",
          "data": {
            "text/plain": [
              "<duckdb.duckdb.DuckDBPyConnection at 0x7d6a3c1c0e70>"
            ]
          },
          "metadata": {},
          "execution_count": 15
        }
      ],
      "source": [
        "#8. Creating a table with building data for Brazil\n",
        "\n",
        "%%time\n",
        "\n",
        "con.execute(f\"\"\"\n",
        "    CREATE OR REPLACE TABLE brazil_buildings AS\n",
        "      SELECT * FROM parquet_scan('{prefix}/by_country_s2/country_iso={country_iso}/*.parquet')\n",
        "\"\"\")"
      ]
    },
    {
      "cell_type": "markdown",
      "metadata": {
        "id": "JhgvrmGn8vRZ"
      },
      "source": [
        "## **Queries on Geospatial Data in a Table of 140 Million Records**\n"
      ]
    },
    {
      "cell_type": "code",
      "execution_count": 16,
      "metadata": {
        "colab": {
          "base_uri": "https://localhost:8080/"
        },
        "id": "8GqMSNUAP2dv",
        "outputId": "c898c759-079c-404e-b6f1-379bea660d21"
      },
      "outputs": [
        {
          "output_type": "stream",
          "name": "stdout",
          "text": [
            "CPU times: user 2.32 ms, sys: 3.52 ms, total: 5.84 ms\n",
            "Wall time: 71 ms\n"
          ]
        },
        {
          "output_type": "execute_result",
          "data": {
            "text/plain": [
              "┌───────────────────┬────────────────────────────────────────────────────────────┬─────────┬─────────┬─────────┬─────────┐\n",
              "│    column_name    │                        column_type                         │  null   │   key   │ default │  extra  │\n",
              "│      varchar      │                          varchar                           │ varchar │ varchar │ varchar │ varchar │\n",
              "├───────────────────┼────────────────────────────────────────────────────────────┼─────────┼─────────┼─────────┼─────────┤\n",
              "│ boundary_id       │ BIGINT                                                     │ YES     │ NULL    │ NULL    │ NULL    │\n",
              "│ bf_source         │ VARCHAR                                                    │ YES     │ NULL    │ NULL    │ NULL    │\n",
              "│ confidence        │ DOUBLE                                                     │ YES     │ NULL    │ NULL    │ NULL    │\n",
              "│ area_in_meters    │ DOUBLE                                                     │ YES     │ NULL    │ NULL    │ NULL    │\n",
              "│ s2_id             │ BIGINT                                                     │ YES     │ NULL    │ NULL    │ NULL    │\n",
              "│ country_iso       │ VARCHAR                                                    │ YES     │ NULL    │ NULL    │ NULL    │\n",
              "│ geometry          │ GEOMETRY                                                   │ YES     │ NULL    │ NULL    │ NULL    │\n",
              "│ geohash           │ VARCHAR                                                    │ YES     │ NULL    │ NULL    │ NULL    │\n",
              "│ __index_level_0__ │ BIGINT                                                     │ YES     │ NULL    │ NULL    │ NULL    │\n",
              "│ bbox              │ STRUCT(xmin DOUBLE, ymin DOUBLE, xmax DOUBLE, ymax DOUBLE) │ YES     │ NULL    │ NULL    │ NULL    │\n",
              "├───────────────────┴────────────────────────────────────────────────────────────┴─────────┴─────────┴─────────┴─────────┤\n",
              "│ 10 rows                                                                                                      6 columns │\n",
              "└────────────────────────────────────────────────────────────────────────────────────────────────────────────────────────┘"
            ]
          },
          "metadata": {},
          "execution_count": 16
        }
      ],
      "source": [
        "#9. Table summary\n",
        "\n",
        "%%time\n",
        "\n",
        "con.query('DESCRIBE brazil_buildings')"
      ]
    },
    {
      "cell_type": "code",
      "execution_count": 17,
      "metadata": {
        "colab": {
          "base_uri": "https://localhost:8080/"
        },
        "id": "-_lREUxw978L",
        "outputId": "bb8a0592-a826-4990-925f-9bfe444cc4fc"
      },
      "outputs": [
        {
          "output_type": "stream",
          "name": "stdout",
          "text": [
            "CPU times: user 1.69 ms, sys: 110 µs, total: 1.8 ms\n",
            "Wall time: 10.4 ms\n"
          ]
        },
        {
          "output_type": "execute_result",
          "data": {
            "text/plain": [
              "┌──────────────┐\n",
              "│ count_star() │\n",
              "│    int64     │\n",
              "├──────────────┤\n",
              "│    141045123 │\n",
              "└──────────────┘"
            ]
          },
          "metadata": {},
          "execution_count": 17
        }
      ],
      "source": [
        "#10. Record count\n",
        "\n",
        "%%time\n",
        "\n",
        "con.query('SELECT COUNT(*) FROM brazil_buildings;')"
      ]
    },
    {
      "cell_type": "code",
      "execution_count": 18,
      "metadata": {
        "colab": {
          "base_uri": "https://localhost:8080/",
          "height": 248,
          "referenced_widgets": [
            "700b5426089d44e9a0db925fc10279b8",
            "140f8d8dfc46452089fe4e1fff031671",
            "870fa24a21924c738fac6b8c2b07dde2"
          ]
        },
        "id": "AjIaKbegAktU",
        "outputId": "2e8bfd4c-f213-4204-f2d4-347dab217469"
      },
      "outputs": [
        {
          "output_type": "stream",
          "name": "stdout",
          "text": [
            "CPU times: user 2.02 ms, sys: 152 µs, total: 2.17 ms\n",
            "Wall time: 9.19 ms\n"
          ]
        },
        {
          "output_type": "display_data",
          "data": {
            "text/plain": [
              "FloatProgress(value=0.0, layout=Layout(width='auto'), style=ProgressStyle(bar_color='black'))"
            ],
            "application/vnd.jupyter.widget-view+json": {
              "version_major": 2,
              "version_minor": 0,
              "model_id": "700b5426089d44e9a0db925fc10279b8"
            }
          },
          "metadata": {}
        },
        {
          "output_type": "execute_result",
          "data": {
            "text/plain": [
              "┌─────────────┬───────────┐\n",
              "│ data_source │   count   │\n",
              "│   varchar   │   int64   │\n",
              "├─────────────┼───────────┤\n",
              "│ google      │ 136237330 │\n",
              "│ microsoft   │   4807793 │\n",
              "└─────────────┴───────────┘"
            ]
          },
          "metadata": {},
          "execution_count": 18
        }
      ],
      "source": [
        "#11. Selecting the source and count\n",
        "\n",
        "%%time\n",
        "\n",
        "con.query('SELECT bf_source AS data_source, COUNT(*) AS count FROM brazil_buildings GROUP BY data_source;')"
      ]
    },
    {
      "cell_type": "code",
      "execution_count": 19,
      "metadata": {
        "colab": {
          "base_uri": "https://localhost:8080/"
        },
        "id": "nBuFQQkXQA-6",
        "outputId": "470bd05c-c714-4d7e-b593-87c8887eedd6"
      },
      "outputs": [
        {
          "output_type": "stream",
          "name": "stdout",
          "text": [
            "CPU times: user 2.45 ms, sys: 0 ns, total: 2.45 ms\n",
            "Wall time: 11.4 ms\n"
          ]
        },
        {
          "output_type": "execute_result",
          "data": {
            "text/plain": [
              "┌─────────────┬───────────┬────────────┬────────────────┬──────────────────────┬─────────────┬──────────────────────────────────────────────────────────────────────────────────────────────────────────────────────────────────────────────────────────────────────────────────────────────────────┬──────────┬───────────────────┬──────────────────────────────────────────────────────────────────────────────────────────────────────────────────┐\n",
              "│ boundary_id │ bf_source │ confidence │ area_in_meters │        s2_id         │ country_iso │                                                                                               geometry                                                                                               │ geohash  │ __index_level_0__ │                                                       bbox                                                       │\n",
              "│    int64    │  varchar  │   double   │     double     │        int64         │   varchar   │                                                                                               geometry                                                                                               │ varchar  │       int64       │                            struct(xmin double, ymin double, xmax double, ymax double)                            │\n",
              "├─────────────┼───────────┼────────────┼────────────────┼──────────────────────┼─────────────┼──────────────────────────────────────────────────────────────────────────────────────────────────────────────────────────────────────────────────────────────────────────────────────────────────────┼──────────┼───────────────────┼──────────────────────────────────────────────────────────────────────────────────────────────────────────────────┤\n",
              "│         117 │ google    │     0.6543 │        34.6868 │ -8280993814827499520 │ BRA         │ POLYGON ((-51.727215034008196 3.996978700673789, -51.7272430484529 3.99702217692007, -51.7272886409758 3.99699254809953, -51.7272606265302 3.99694907185508, -51.727215034008196 3.996978700673789)) │ dbenwztk │               182 │ {'xmin': -51.7272886409758, 'ymin': 3.9969490718550795, 'xmax': -51.727215034008196, 'ymax': 3.9970221769200704} │\n",
              "│         117 │ google    │     0.6923 │         9.6776 │ -8280993814827499520 │ BRA         │ POLYGON ((-51.7272558199251 3.99701661168343, -51.7272647917895 3.99703763684701, -51.72729631941629 3.99702406855036, -51.7272873475513 3.997003043387231, -51.7272558199251 3.99701661168343))     │ dbenwztk │                92 │ {'xmin': -51.72729631941629, 'ymin': 3.9970030433872306, 'xmax': -51.7272558199251, 'ymax': 3.9970376368470095}  │\n",
              "│         117 │ google    │     0.6786 │        13.8012 │ -8280993814827499520 │ BRA         │ POLYGON ((-51.72665484054381 3.998740579241459, -51.7266639850133 3.99876645900096, -51.7267023855758 3.99875277463316, -51.7266932411052 3.99872689487356, -51.72665484054381 3.998740579241459))   │ dbenwzvy │                91 │ {'xmin': -51.7267023855758, 'ymin': 3.99872689487356, 'xmax': -51.72665484054381, 'ymax': 3.9987664590009597}    │\n",
              "│         117 │ google    │     0.8574 │        61.0878 │ -8280993814827499520 │ BRA         │ POLYGON ((-51.726563987542505 3.99876500315656, -51.7265911174686 3.998821238965331, -51.7266624451501 3.99878653471782, -51.7266353152211 3.99873029891202, -51.726563987542505 3.99876500315656))  │ dbenwzvy │               128 │ {'xmin': -51.7266624451501, 'ymin': 3.99873029891202, 'xmax': -51.726563987542505, 'ymax': 3.9988212389653306}   │\n",
              "│         117 │ google    │     0.7347 │         37.066 │ -8280993814827499520 │ BRA         │ POLYGON ((-51.7237187917043 3.99885194764589, -51.7237697158502 3.998858201465341, -51.723776795732405 3.99880005901915, -51.7237258715901 3.998793805199531, -51.7237187917043 3.99885194764589))   │ dbenwzzy │               201 │ {'xmin': -51.723776795732405, 'ymin': 3.9987938051995306, 'xmax': -51.7237187917043, 'ymax': 3.998858201465341}  │\n",
              "│         117 │ google    │     0.9027 │        96.9306 │ -8280993814827499520 │ BRA         │ POLYGON ((-51.6956848840748 3.99258124175687, -51.695702701564294 3.99264438058881, -51.69581791363079 3.99261159043187, -51.6958000961341 3.992548451603791, -51.6956848840748 3.99258124175687))   │ dbenxwu6 │               147 │ {'xmin': -51.69581791363079, 'ymin': 3.992548451603791, 'xmax': -51.6956848840748, 'ymax': 3.99264438058881}     │\n",
              "│         117 │ google    │       0.69 │        31.7927 │ -8280993814827499520 │ BRA         │ POLYGON ((-51.6956191632105 3.9926723898784, -51.69562747305461 3.99273480908542, -51.69566804251969 3.99272936193536, -51.69565973267311 3.99266694272931, -51.6956191632105 3.9926723898784))      │ dbenxwu7 │                14 │ {'xmin': -51.69566804251969, 'ymin': 3.9926669427293104, 'xmax': -51.6956191632105, 'ymax': 3.9927348090854204}  │\n",
              "│         117 │ google    │     0.6613 │        18.4067 │ -8280993814827499520 │ BRA         │ POLYGON ((-51.7274108215395 3.999313835648819, -51.7274129303108 3.99933960462363, -51.7274704535118 3.99933485713645, -51.7274683447388 3.99930908816218, -51.7274108215395 3.999313835648819))     │ dbenybj1 │               135 │ {'xmin': -51.7274704535118, 'ymin': 3.99930908816218, 'xmax': -51.7274108215395, 'ymax': 3.9993396046236303}     │\n",
              "│         117 │ google    │     0.6526 │        33.3854 │ -8280993814827499520 │ BRA         │ POLYGON ((-51.72740699672601 3.999267096799131, -51.7274108215395 3.999313835648819, -51.7274683447388 3.99930908816218, -51.727464519922 3.99926234931319, -51.72740699672601 3.999267096799131))   │ dbenybj1 │               175 │ {'xmin': -51.7274683447388, 'ymin': 3.9992623493131902, 'xmax': -51.72740699672601, 'ymax': 3.9993138356488194}  │\n",
              "│         117 │ google    │     0.8656 │       150.7624 │ -8280993814827499520 │ BRA         │ POLYGON ((-51.727075500000005 3.999207300000001, -51.72709640000001 3.9992976, -51.7272249 3.9992676, -51.727204 3.999177400000001, -51.727075500000005 3.999207300000001))                          │ dbenybj3 │               224 │ {'xmin': -51.7272249, 'ymin': 3.9991774000000007, 'xmax': -51.727075500000005, 'ymax': 3.9992976000000002}       │\n",
              "├─────────────┴───────────┴────────────┴────────────────┴──────────────────────┴─────────────┴──────────────────────────────────────────────────────────────────────────────────────────────────────────────────────────────────────────────────────────────────────────────────────────────────────┴──────────┴───────────────────┴──────────────────────────────────────────────────────────────────────────────────────────────────────────────────┤\n",
              "│ 10 rows                                                                                                                                                                                                                                                                                                                                                                                                                                  10 columns │\n",
              "└─────────────────────────────────────────────────────────────────────────────────────────────────────────────────────────────────────────────────────────────────────────────────────────────────────────────────────────────────────────────────────────────────────────────────────────────────────────────────────────────────────────────────────────────────────────────────────────────────────────────────────────────────────────────────────┘"
            ]
          },
          "metadata": {},
          "execution_count": 19
        }
      ],
      "source": [
        "#12. Using SELECT is not mandatory with DuckDB\n",
        "\n",
        "%%time\n",
        "\n",
        "con.query('''FROM brazil_buildings WHERE bf_source = 'google' LIMIT 10;''')"
      ]
    },
    {
      "cell_type": "markdown",
      "metadata": {
        "id": "GX7YhV878vRa"
      },
      "source": [
        "## **Statistical Analysis by Data Partition**\n",
        "\n",
        "Let's dive deeper into the analysis of S2 partition statistics. For this exercise, we will select a country subdivided into multiple S2 grids and calculate the building count per grid ID.\n",
        "\n",
        "We will use Australia (**AUS**) as our country of study due to its extensive geographical distribution and substantial urban presence.\n"
      ]
    },
    {
      "cell_type": "code",
      "execution_count": 20,
      "metadata": {
        "id": "-cTxM8Gw8vRa"
      },
      "outputs": [],
      "source": [
        "#13. We can work with data from other countries\n",
        "\n",
        "prefix = \"s3://us-west-2.opendata.source.coop/vida/google-microsoft-open-buildings/geoparquet\"\n",
        "partitions = \"by_country_s2\"\n",
        "country_iso = \"AUS\""
      ]
    },
    {
      "cell_type": "code",
      "execution_count": 21,
      "metadata": {
        "id": "_d6Ilh3S8vRa"
      },
      "outputs": [],
      "source": [
        "#14. Define the SQL query\n",
        "\n",
        "query1 = f\"\"\"\n",
        "    CREATE TABLE aus_buildings AS\n",
        "    SELECT s2_id, COUNT(geometry) AS buildings_count\n",
        "    FROM parquet_scan('{prefix}/{partitions}/country_iso={country_iso}/*.parquet')\n",
        "    GROUP BY(s2_id)\n",
        "\"\"\""
      ]
    },
    {
      "cell_type": "code",
      "execution_count": 22,
      "metadata": {
        "colab": {
          "base_uri": "https://localhost:8080/",
          "height": 94,
          "referenced_widgets": [
            "627cf5f4da9e4161a674efc30b0b6c29",
            "289a9e181e5b4ebaadc90a6ba215bfa8",
            "a77522b7f2e2440a8b83c9a0a56e87b2"
          ]
        },
        "id": "NVY1X_Md8vRa",
        "outputId": "70c28c07-6628-4a70-dada-56fe43f501fd"
      },
      "outputs": [
        {
          "output_type": "display_data",
          "data": {
            "text/plain": [
              "FloatProgress(value=0.0, layout=Layout(width='auto'), style=ProgressStyle(bar_color='black'))"
            ],
            "application/vnd.jupyter.widget-view+json": {
              "version_major": 2,
              "version_minor": 0,
              "model_id": "627cf5f4da9e4161a674efc30b0b6c29"
            }
          },
          "metadata": {}
        },
        {
          "output_type": "stream",
          "name": "stdout",
          "text": [
            "CPU times: user 7.93 s, sys: 1.12 s, total: 9.05 s\n",
            "Wall time: 1min 9s\n"
          ]
        }
      ],
      "source": [
        "#15. Execute the query\n",
        "\n",
        "%%time\n",
        "\n",
        "duckdb.sql(query1)"
      ]
    },
    {
      "cell_type": "markdown",
      "metadata": {
        "id": "5BJYe9Eb8vRa"
      },
      "source": [
        "In the result above, Australia is divided into **three distinct S2 grids**, each with a varying number of buildings. This demonstrates the **geographical distribution** and **building density** across different regions of the country.\n",
        "\n",
        "Now, let's calculate the **average number of buildings per S2 grid ID** to get an idea of the building density:\n",
        "\n"
      ]
    },
    {
      "cell_type": "code",
      "execution_count": 23,
      "metadata": {
        "colab": {
          "base_uri": "https://localhost:8080/"
        },
        "id": "aSLlACEb8vRa",
        "outputId": "a20d48ea-19b9-46d1-b856-3845c3673d64"
      },
      "outputs": [
        {
          "output_type": "stream",
          "name": "stdout",
          "text": [
            "┌──────────────────────┬─────────────────┐\n",
            "│        s2_id         │ buildings_count │\n",
            "│        int64         │      int64      │\n",
            "├──────────────────────┼─────────────────┤\n",
            "│  3170534137668829184 │         1588372 │\n",
            "│  7782220156096217088 │        10025356 │\n",
            "│ -6052837899185946624 │          468519 │\n",
            "└──────────────────────┴─────────────────┘\n",
            "\n",
            "CPU times: user 2.5 ms, sys: 79 µs, total: 2.58 ms\n",
            "Wall time: 3.21 ms\n"
          ]
        }
      ],
      "source": [
        "#16. Execute query\n",
        "\n",
        "%%time\n",
        "\n",
        "duckdb.sql(\"SELECT * FROM aus_buildings\").show()"
      ]
    },
    {
      "cell_type": "code",
      "execution_count": 24,
      "metadata": {
        "id": "VGbdaC-u8vRb"
      },
      "outputs": [],
      "source": [
        "#17. Define the SQL query\n",
        "\n",
        "query2 = f\"\"\"\n",
        "    SELECT ROUND(AVG(buildings_count), 0) AS avg_num_buildings\n",
        "    FROM aus_buildings\n",
        "\"\"\""
      ]
    },
    {
      "cell_type": "code",
      "execution_count": 25,
      "metadata": {
        "colab": {
          "base_uri": "https://localhost:8080/"
        },
        "id": "7LgXQSO08vRb",
        "outputId": "3493a3db-851c-49f1-f076-74cd015eec08"
      },
      "outputs": [
        {
          "output_type": "stream",
          "name": "stdout",
          "text": [
            "┌───────────────────┐\n",
            "│ avg_num_buildings │\n",
            "│      double       │\n",
            "├───────────────────┤\n",
            "│         4027416.0 │\n",
            "└───────────────────┘\n",
            "\n",
            "CPU times: user 10.8 ms, sys: 0 ns, total: 10.8 ms\n",
            "Wall time: 11.3 ms\n"
          ]
        }
      ],
      "source": [
        "#18. Execute the query and display the result\n",
        "\n",
        "%%time\n",
        "\n",
        "duckdb.sql(query2).show()"
      ]
    },
    {
      "cell_type": "markdown",
      "metadata": {
        "id": "ARpo_o8l8vRb"
      },
      "source": [
        "From the results, it is observed that, on average, there are approximately **3.7 million buildings per grid ID**. This metric provides an approximate estimate of **building density** across different geographical segments in Australia and can serve as a basis for further **spatial analyses** or comparisons with other countries.\n",
        "\n"
      ]
    },
    {
      "cell_type": "markdown",
      "metadata": {
        "id": "nFPmf6GD8vRb"
      },
      "source": [
        "## **Performing Geospatial Data Analysis**\n",
        "\n",
        "Now, let's dive deeper into some analyses of our dataset, focusing on **Lesotho** (due to its smaller size). Initially, we will fetch the data from **S3** and organize it into a **DuckDB table**.\n"
      ]
    },
    {
      "cell_type": "code",
      "execution_count": 1,
      "metadata": {
        "id": "3Rm_bBTK8vRb"
      },
      "outputs": [],
      "source": [
        "#19. Partition type and country ISO code\n",
        "\n",
        "partitions = \"by_country_s2\"\n",
        "country_iso = \"LSO\""
      ]
    },
    {
      "cell_type": "code",
      "execution_count": 2,
      "metadata": {
        "colab": {
          "base_uri": "https://localhost:8080/",
          "height": 148
        },
        "id": "SwJvuwzn8vRc",
        "outputId": "7de84b12-e493-4584-84d1-38edb348f5d5"
      },
      "outputs": [
        {
          "output_type": "error",
          "ename": "NameError",
          "evalue": "name 'duckdb' is not defined",
          "traceback": [
            "\u001b[0;31m---------------------------------------------------------------------------\u001b[0m",
            "\u001b[0;31mNameError\u001b[0m                                 Traceback (most recent call last)",
            "\u001b[0;32m<timed eval>\u001b[0m in \u001b[0;36m<module>\u001b[0;34m\u001b[0m\n",
            "\u001b[0;31mNameError\u001b[0m: name 'duckdb' is not defined"
          ]
        }
      ],
      "source": [
        "#20. Creating or replacing the table for Lesotho buildings\n",
        "\n",
        "%%time\n",
        "\n",
        "duckdb.sql(f\"\"\"\n",
        "    CREATE OR REPLACE TABLE lso_buildings AS\n",
        "    SELECT *\n",
        "    FROM parquet_scan('{prefix}/{partitions}/country_iso={country_iso}/*.parquet')\n",
        "\"\"\")"
      ]
    },
    {
      "cell_type": "code",
      "execution_count": null,
      "metadata": {
        "id": "PEiGVNbmXegb",
        "colab": {
          "base_uri": "https://localhost:8080/",
          "height": 50,
          "referenced_widgets": [
            "40957b09aa05443180216722714a88df",
            "7fd932fbdc324381a3026ae0c248f295",
            "34cd751d1c804bd087364f0d337309f8"
          ]
        },
        "outputId": "9043fb7d-639b-4e20-cbd4-73e33ef349aa"
      },
      "outputs": [
        {
          "output_type": "display_data",
          "data": {
            "text/plain": [
              "FloatProgress(value=0.0, layout=Layout(width='auto'), style=ProgressStyle(bar_color='black'))"
            ],
            "application/vnd.jupyter.widget-view+json": {
              "version_major": 2,
              "version_minor": 0,
              "model_id": "40957b09aa05443180216722714a88df"
            }
          },
          "metadata": {}
        }
      ],
      "source": [
        "duckdb.sql(f\"\"\"\n",
        "    CREATE OR REPLACE TABLE lso_buildings AS\n",
        "    SELECT *, ST_AsWKB(ST_Envelope(geometry)) AS geometry\n",
        "    FROM parquet_scan('{prefix}/{partitions}/country_iso={country_iso}/*.parquet')\n",
        "\"\"\")"
      ]
    },
    {
      "cell_type": "code",
      "execution_count": null,
      "metadata": {
        "id": "fXA1J-h78vRc"
      },
      "outputs": [],
      "source": [
        "#21. Execute the query\n",
        "\n",
        "%%time\n",
        "\n",
        "duckdb.sql(f\"\"\"\n",
        "    SELECT bf_source, COUNT(*) AS buildings_count\n",
        "    FROM lso_buildings\n",
        "    GROUP BY bf_source;\n",
        "\"\"\").show()"
      ]
    },
    {
      "cell_type": "markdown",
      "metadata": {
        "id": "xJmNxlSl8vRc"
      },
      "source": [
        "Let's compare the original **Google V3 dataset** with our merged dataset to verify the absence of overlap. We will use the **Open Buildings dataset** available on Source Cooperative for this comparison.\n",
        "\n",
        "Remember that we have already loaded **Lesotho** as a DuckDB table named `lso_buildings` in the previous steps? Now, let's do the same with the **original Google V3 building dataset**.\n"
      ]
    },
    {
      "cell_type": "code",
      "execution_count": null,
      "metadata": {
        "id": "2JpVgVG68vRc"
      },
      "outputs": [],
      "source": [
        "#22. Data source from Google Research\n",
        "\n",
        "prefix = \"s3://us-west-2.opendata.source.coop/google-research-open-buildings/geoparquet-by-country\""
      ]
    },
    {
      "cell_type": "code",
      "execution_count": null,
      "metadata": {
        "id": "foO41Utj8vRd"
      },
      "outputs": [],
      "source": [
        "#23. Country code\n",
        "\n",
        "country = \"LS\""
      ]
    },
    {
      "cell_type": "code",
      "execution_count": null,
      "metadata": {
        "id": "_Hgo4lOw8vRd"
      },
      "outputs": [],
      "source": [
        "#24. Creating or replacing the table for Lesotho buildings from Google dataset\n",
        "\n",
        "%%time\n",
        "\n",
        "duckdb.sql(f\"\"\"\n",
        "    CREATE OR REPLACE TABLE lso_buildings_google AS\n",
        "    SELECT *\n",
        "    FROM '{prefix}/country_iso={country}/{country}.parquet'\n",
        "\"\"\")"
      ]
    },
    {
      "cell_type": "code",
      "execution_count": null,
      "metadata": {
        "id": "7zm3U-p78vRd"
      },
      "outputs": [],
      "source": [
        "#25. Execute the query to count records in the Google dataset for Lesotho\n",
        "\n",
        "%%time\n",
        "\n",
        "duckdb.sql(\"SELECT COUNT(*) FROM lso_buildings_google\").show()"
      ]
    },
    {
      "cell_type": "code",
      "execution_count": null,
      "metadata": {
        "id": "EgfhKpVs8vRd"
      },
      "outputs": [],
      "source": [
        "#26. Execute the query to count records in Lesotho buildings filtered by Google source\n",
        "\n",
        "%%time\n",
        "\n",
        "duckdb.sql(\"SELECT COUNT(*) FROM lso_buildings WHERE bf_source = 'google'\").show()"
      ]
    },
    {
      "cell_type": "code",
      "execution_count": null,
      "metadata": {
        "id": "Wq62kEPC8vRe"
      },
      "outputs": [],
      "source": [
        "#27. File with the Area of Interest (AOI)\n",
        "\n",
        "file = \"boundaries.geojson\""
      ]
    },
    {
      "cell_type": "code",
      "execution_count": null,
      "metadata": {
        "id": "k76411Pp8vRe"
      },
      "outputs": [],
      "source": [
        "#28. Execute the query to create a table for the Area of Interest (AOI)\n",
        "\n",
        "%%time\n",
        "\n",
        "duckdb.sql(f\"\"\"\n",
        "    CREATE TABLE aoi AS\n",
        "    SELECT *\n",
        "    FROM ST_Read('{file}')\n",
        "\"\"\")"
      ]
    },
    {
      "cell_type": "code",
      "execution_count": null,
      "metadata": {
        "id": "Iiwea9r78vRe"
      },
      "outputs": [],
      "source": [
        "#29. Execute the query to display the Area of Interest (AOI) table\n",
        "\n",
        "%%time\n",
        "\n",
        "duckdb.sql(\"SELECT * FROM aoi\").show()"
      ]
    },
    {
      "cell_type": "code",
      "execution_count": null,
      "metadata": {
        "id": "DWj_XwVn8vRe"
      },
      "outputs": [],
      "source": [
        "#30. Define the SQL query to clip Lesotho buildings with the Area of Interest (AOI)\n",
        "\n",
        "query3 = \"\"\"\n",
        "CREATE TABLE lso_buildings_clipped AS\n",
        "SELECT ST_Intersection(b.geometry, a.geom) AS geom, b.bf_source\n",
        "FROM lso_buildings b, aoi a\n",
        "WHERE ST_Intersects(b.geometry, a.geom);\n",
        "\"\"\""
      ]
    },
    {
      "cell_type": "markdown",
      "metadata": {
        "id": "T3PnYirK8vRe"
      },
      "source": [
        "The above SQL code creates a new table called `lso_buildings_clipped` from a **geographical intersection operation** between two existing tables: `lso_buildings` and `aoi`. Let's break down each part of the code to clarify its purpose:\n",
        "\n",
        "### **CREATE TABLE lso_buildings_clipped AS**\n",
        "This SQL statement creates a new table called `lso_buildings_clipped`. The content of this table is the result of the query that follows the `AS` clause.\n",
        "\n",
        "### **SELECT**\n",
        "- `ST_Intersection(ST_GeomFromWKB(b.geometry), a.geom) AS geom`:  \n",
        "  This selects the geometric intersection of the `geometry` column from the `lso_buildings` table and the `geom` column from the `aoi` table.  \n",
        "  - The `ST_Intersection` function calculates the **common area** between two geometries.  \n",
        "  - The `ST_GeomFromWKB` function converts the `geometry` column, stored in **Well-Known Binary (WKB)** format, into a geometry type that DuckDB can manipulate.\n",
        "\n",
        "- `b.bf_source`:  \n",
        "  This column is selected directly from the `lso_buildings` table. It contains information about the **data source** for each building.\n",
        "\n",
        "### **FROM lso_buildings b, aoi a**\n",
        "This specifies the tables from which data will be retrieved.  \n",
        "- `lso_buildings` is referenced with the alias `b`.  \n",
        "- `aoi` is referenced with the alias `a`.\n",
        "\n",
        "### **WHERE ST_Intersects(ST_GeomFromWKB(b.geometry), a.geom)**\n",
        "The `WHERE` clause filters records to include only those where the geometries in tables `b` and `a` **intersect**.  \n",
        "- The `ST_Intersects` function returns `TRUE` if two geometries overlap in any way.\n",
        "\n",
        "---\n",
        "\n",
        "### **Summary**\n",
        "This query creates a new table that contains:\n",
        "1. The **overlapping areas** between the buildings in `lso_buildings` and the Area of Interest (AOI) in `aoi`.  \n",
        "2. The `bf_source` column for each resulting geometry, indicating the **origin** of the corresponding building data.\n",
        "\n",
        "This allows for a detailed analysis of building data within a specific area of interest, facilitating further geospatial studies or visualizations.\n"
      ]
    },
    {
      "cell_type": "code",
      "execution_count": null,
      "metadata": {
        "id": "dYylTAB28vRe"
      },
      "outputs": [],
      "source": [
        "#31. Execute the query to create the clipped table for Lesotho buildings\n",
        "\n",
        "%%time\n",
        "\n",
        "duckdb.sql(query3)"
      ]
    },
    {
      "cell_type": "code",
      "execution_count": null,
      "metadata": {
        "id": "zVtfRQ-a8vRe"
      },
      "outputs": [],
      "source": [
        "#32. Execute the query to count records in the clipped table for Lesotho buildings\n",
        "\n",
        "%%time\n",
        "\n",
        "duckdb.sql(\"SELECT COUNT(*) FROM lso_buildings_clipped\").show()"
      ]
    },
    {
      "cell_type": "code",
      "execution_count": null,
      "metadata": {
        "id": "4nWHL8308vRf"
      },
      "outputs": [],
      "source": [
        "#33. Define the SQL query to clip Google dataset buildings with the Area of Interest (AOI)\n",
        "\n",
        "query4 = \"\"\"\n",
        "CREATE TABLE lso_buildings_google_clipped AS\n",
        "SELECT ST_Intersection(b.geometry, a.geom) AS geom\n",
        "FROM lso_buildings_google b, aoi a\n",
        "WHERE ST_Intersects(b.geometry, a.geom);\n",
        "\"\"\""
      ]
    },
    {
      "cell_type": "code",
      "execution_count": null,
      "metadata": {
        "id": "PrrSRw_I8vRf"
      },
      "outputs": [],
      "source": [
        "#34. Execute the query to create the clipped table for Google dataset buildings\n",
        "\n",
        "%%time\n",
        "\n",
        "duckdb.sql(query4)"
      ]
    },
    {
      "cell_type": "code",
      "execution_count": null,
      "metadata": {
        "id": "f2X3QAph8vRf"
      },
      "outputs": [],
      "source": [
        "#35. Execute the query to count records in the clipped table for Google dataset buildings\n",
        "\n",
        "%%time\n",
        "\n",
        "duckdb.sql(\"SELECT COUNT(*) FROM lso_buildings_google_clipped\").show()"
      ]
    },
    {
      "cell_type": "code",
      "execution_count": null,
      "metadata": {
        "id": "SnYdFBvj8vRf"
      },
      "outputs": [],
      "source": [
        "#36. Define the SQL query to find buildings without intersection\n",
        "\n",
        "query5 = \"\"\"\n",
        "CREATE TABLE lso_no_intersection AS\n",
        "SELECT m.*\n",
        "FROM lso_buildings_clipped m\n",
        "WHERE NOT EXISTS (\n",
        "    SELECT 1\n",
        "    FROM lso_buildings_google_clipped g\n",
        "    WHERE ST_Intersects(m.geom, g.geom)\n",
        ");\n",
        "\"\"\""
      ]
    },
    {
      "cell_type": "markdown",
      "metadata": {
        "id": "ydfQIrOP8vRf"
      },
      "source": [
        "The query `query5` creates the table `lso_no_intersection`, containing all entries from the table `lso_buildings_clipped` that **do not have a geometric intersection** with any entry from the table `lso_buildings_google_clipped`.\n",
        "\n",
        "This procedure is useful for identifying **areas or objects** that are **exclusive** to the `lso_buildings_clipped` table compared to `lso_buildings_google_clipped`.\n"
      ]
    },
    {
      "cell_type": "code",
      "execution_count": null,
      "metadata": {
        "id": "EogDSpOO8vRf"
      },
      "outputs": [],
      "source": [
        "#37. Execute the query to create the table of non-intersecting buildings\n",
        "\n",
        "%%time\n",
        "\n",
        "duckdb.sql(query5)"
      ]
    },
    {
      "cell_type": "code",
      "execution_count": null,
      "metadata": {
        "id": "NMZQ9li58vRf"
      },
      "outputs": [],
      "source": [
        "#38. Execute the query to count records in the non-intersecting buildings table\n",
        "\n",
        "%%time\n",
        "\n",
        "duckdb.sql(\"SELECT count(*) FROM lso_no_intersection\").show()"
      ]
    },
    {
      "cell_type": "markdown",
      "metadata": {
        "id": "JN6rv2XQ8vRg"
      },
      "source": [
        "## **Exporting the Analysis Result to Spatial Format**\n",
        "\n",
        "After completing our analyses, it is time to export the data to the desired geospatial formats. In this case, we will use **FlatGeobuf** due to its efficiency in handling geospatial data!\n"
      ]
    },
    {
      "cell_type": "code",
      "execution_count": null,
      "metadata": {
        "id": "7wqXugrs8vRg"
      },
      "outputs": [],
      "source": [
        "#39. Export the clipped Lesotho buildings dataset to FlatGeobuf format\n",
        "\n",
        "%%time\n",
        "\n",
        "output_file = \"dataset1.fgb\"\n",
        "duckdb.sql(f\"\"\"\n",
        "    COPY (SELECT * FROM lso_buildings_clipped)\n",
        "    TO '{output_file}'\n",
        "    WITH (FORMAT GDAL, DRIVER 'FlatGeobuf');\n",
        "\"\"\")\n"
      ]
    },
    {
      "cell_type": "code",
      "execution_count": null,
      "metadata": {
        "id": "U0Alwe2g8vRg"
      },
      "outputs": [],
      "source": [
        "#40. Export the Lesotho buildings dataset with geometry transformation to FlatGeobuf format\n",
        "\n",
        "%%time\n",
        "\n",
        "output_file = \"dataset2.fgb\"\n",
        "duckdb.sql(f\"\"\"\n",
        "    COPY (\n",
        "        SELECT *, ST_AsWKB(ST_Envelope(geometry)) AS geometry\n",
        "        FROM lso_buildings\n",
        "    )\n",
        "    TO '{output_file}'\n",
        "    WITH (FORMAT GDAL, DRIVER 'FlatGeobuf');\n",
        "\"\"\")"
      ]
    },
    {
      "cell_type": "code",
      "execution_count": null,
      "metadata": {
        "id": "bTbhYfH_8vRg"
      },
      "outputs": [],
      "source": [
        "%watermark -a \"Your_Name\""
      ]
    },
    {
      "cell_type": "code",
      "execution_count": null,
      "metadata": {
        "id": "V7isC6b_8vRg"
      },
      "outputs": [],
      "source": [
        "%watermark -v -m"
      ]
    },
    {
      "cell_type": "code",
      "execution_count": null,
      "metadata": {
        "id": "84tViwBv8vRg"
      },
      "outputs": [],
      "source": [
        "%watermark --iversions"
      ]
    },
    {
      "cell_type": "markdown",
      "metadata": {
        "id": "0QWtlVrh8vRg"
      },
      "source": [
        "# **The End**"
      ]
    }
  ],
  "metadata": {
    "accelerator": "GPU",
    "colab": {
      "gpuType": "T4",
      "provenance": []
    },
    "kernelspec": {
      "display_name": "Python 3",
      "name": "python3"
    },
    "language_info": {
      "codemirror_mode": {
        "name": "ipython",
        "version": 3
      },
      "file_extension": ".py",
      "mimetype": "text/x-python",
      "name": "python",
      "nbconvert_exporter": "python",
      "pygments_lexer": "ipython3",
      "version": "3.11.5"
    },
    "widgets": {
      "application/vnd.jupyter.widget-state+json": {
        "ce7eeea4e8c94fe1b92534823e24d0fe": {
          "model_module": "@jupyter-widgets/controls",
          "model_name": "FloatProgressModel",
          "model_module_version": "1.5.0",
          "state": {
            "_dom_classes": [],
            "_model_module": "@jupyter-widgets/controls",
            "_model_module_version": "1.5.0",
            "_model_name": "FloatProgressModel",
            "_view_count": null,
            "_view_module": "@jupyter-widgets/controls",
            "_view_module_version": "1.5.0",
            "_view_name": "ProgressView",
            "bar_style": "",
            "description": "",
            "description_tooltip": null,
            "layout": "IPY_MODEL_db1af8c3d83642c8a9792dcf2aa73ffc",
            "max": 100,
            "min": 0,
            "orientation": "horizontal",
            "style": "IPY_MODEL_d475ed66eea54913b728c9a76f62dd9a",
            "value": 100
          }
        },
        "db1af8c3d83642c8a9792dcf2aa73ffc": {
          "model_module": "@jupyter-widgets/base",
          "model_name": "LayoutModel",
          "model_module_version": "1.2.0",
          "state": {
            "_model_module": "@jupyter-widgets/base",
            "_model_module_version": "1.2.0",
            "_model_name": "LayoutModel",
            "_view_count": null,
            "_view_module": "@jupyter-widgets/base",
            "_view_module_version": "1.2.0",
            "_view_name": "LayoutView",
            "align_content": null,
            "align_items": null,
            "align_self": null,
            "border": null,
            "bottom": null,
            "display": null,
            "flex": null,
            "flex_flow": null,
            "grid_area": null,
            "grid_auto_columns": null,
            "grid_auto_flow": null,
            "grid_auto_rows": null,
            "grid_column": null,
            "grid_gap": null,
            "grid_row": null,
            "grid_template_areas": null,
            "grid_template_columns": null,
            "grid_template_rows": null,
            "height": null,
            "justify_content": null,
            "justify_items": null,
            "left": null,
            "margin": null,
            "max_height": null,
            "max_width": null,
            "min_height": null,
            "min_width": null,
            "object_fit": null,
            "object_position": null,
            "order": null,
            "overflow": null,
            "overflow_x": null,
            "overflow_y": null,
            "padding": null,
            "right": null,
            "top": null,
            "visibility": null,
            "width": "auto"
          }
        },
        "d475ed66eea54913b728c9a76f62dd9a": {
          "model_module": "@jupyter-widgets/controls",
          "model_name": "ProgressStyleModel",
          "model_module_version": "1.5.0",
          "state": {
            "_model_module": "@jupyter-widgets/controls",
            "_model_module_version": "1.5.0",
            "_model_name": "ProgressStyleModel",
            "_view_count": null,
            "_view_module": "@jupyter-widgets/base",
            "_view_module_version": "1.2.0",
            "_view_name": "StyleView",
            "bar_color": "black",
            "description_width": ""
          }
        },
        "700b5426089d44e9a0db925fc10279b8": {
          "model_module": "@jupyter-widgets/controls",
          "model_name": "FloatProgressModel",
          "model_module_version": "1.5.0",
          "state": {
            "_dom_classes": [],
            "_model_module": "@jupyter-widgets/controls",
            "_model_module_version": "1.5.0",
            "_model_name": "FloatProgressModel",
            "_view_count": null,
            "_view_module": "@jupyter-widgets/controls",
            "_view_module_version": "1.5.0",
            "_view_name": "ProgressView",
            "bar_style": "",
            "description": "",
            "description_tooltip": null,
            "layout": "IPY_MODEL_140f8d8dfc46452089fe4e1fff031671",
            "max": 100,
            "min": 0,
            "orientation": "horizontal",
            "style": "IPY_MODEL_870fa24a21924c738fac6b8c2b07dde2",
            "value": 100
          }
        },
        "140f8d8dfc46452089fe4e1fff031671": {
          "model_module": "@jupyter-widgets/base",
          "model_name": "LayoutModel",
          "model_module_version": "1.2.0",
          "state": {
            "_model_module": "@jupyter-widgets/base",
            "_model_module_version": "1.2.0",
            "_model_name": "LayoutModel",
            "_view_count": null,
            "_view_module": "@jupyter-widgets/base",
            "_view_module_version": "1.2.0",
            "_view_name": "LayoutView",
            "align_content": null,
            "align_items": null,
            "align_self": null,
            "border": null,
            "bottom": null,
            "display": null,
            "flex": null,
            "flex_flow": null,
            "grid_area": null,
            "grid_auto_columns": null,
            "grid_auto_flow": null,
            "grid_auto_rows": null,
            "grid_column": null,
            "grid_gap": null,
            "grid_row": null,
            "grid_template_areas": null,
            "grid_template_columns": null,
            "grid_template_rows": null,
            "height": null,
            "justify_content": null,
            "justify_items": null,
            "left": null,
            "margin": null,
            "max_height": null,
            "max_width": null,
            "min_height": null,
            "min_width": null,
            "object_fit": null,
            "object_position": null,
            "order": null,
            "overflow": null,
            "overflow_x": null,
            "overflow_y": null,
            "padding": null,
            "right": null,
            "top": null,
            "visibility": null,
            "width": "auto"
          }
        },
        "870fa24a21924c738fac6b8c2b07dde2": {
          "model_module": "@jupyter-widgets/controls",
          "model_name": "ProgressStyleModel",
          "model_module_version": "1.5.0",
          "state": {
            "_model_module": "@jupyter-widgets/controls",
            "_model_module_version": "1.5.0",
            "_model_name": "ProgressStyleModel",
            "_view_count": null,
            "_view_module": "@jupyter-widgets/base",
            "_view_module_version": "1.2.0",
            "_view_name": "StyleView",
            "bar_color": "black",
            "description_width": ""
          }
        },
        "627cf5f4da9e4161a674efc30b0b6c29": {
          "model_module": "@jupyter-widgets/controls",
          "model_name": "FloatProgressModel",
          "model_module_version": "1.5.0",
          "state": {
            "_dom_classes": [],
            "_model_module": "@jupyter-widgets/controls",
            "_model_module_version": "1.5.0",
            "_model_name": "FloatProgressModel",
            "_view_count": null,
            "_view_module": "@jupyter-widgets/controls",
            "_view_module_version": "1.5.0",
            "_view_name": "ProgressView",
            "bar_style": "",
            "description": "",
            "description_tooltip": null,
            "layout": "IPY_MODEL_289a9e181e5b4ebaadc90a6ba215bfa8",
            "max": 100,
            "min": 0,
            "orientation": "horizontal",
            "style": "IPY_MODEL_a77522b7f2e2440a8b83c9a0a56e87b2",
            "value": 100
          }
        },
        "289a9e181e5b4ebaadc90a6ba215bfa8": {
          "model_module": "@jupyter-widgets/base",
          "model_name": "LayoutModel",
          "model_module_version": "1.2.0",
          "state": {
            "_model_module": "@jupyter-widgets/base",
            "_model_module_version": "1.2.0",
            "_model_name": "LayoutModel",
            "_view_count": null,
            "_view_module": "@jupyter-widgets/base",
            "_view_module_version": "1.2.0",
            "_view_name": "LayoutView",
            "align_content": null,
            "align_items": null,
            "align_self": null,
            "border": null,
            "bottom": null,
            "display": null,
            "flex": null,
            "flex_flow": null,
            "grid_area": null,
            "grid_auto_columns": null,
            "grid_auto_flow": null,
            "grid_auto_rows": null,
            "grid_column": null,
            "grid_gap": null,
            "grid_row": null,
            "grid_template_areas": null,
            "grid_template_columns": null,
            "grid_template_rows": null,
            "height": null,
            "justify_content": null,
            "justify_items": null,
            "left": null,
            "margin": null,
            "max_height": null,
            "max_width": null,
            "min_height": null,
            "min_width": null,
            "object_fit": null,
            "object_position": null,
            "order": null,
            "overflow": null,
            "overflow_x": null,
            "overflow_y": null,
            "padding": null,
            "right": null,
            "top": null,
            "visibility": null,
            "width": "auto"
          }
        },
        "a77522b7f2e2440a8b83c9a0a56e87b2": {
          "model_module": "@jupyter-widgets/controls",
          "model_name": "ProgressStyleModel",
          "model_module_version": "1.5.0",
          "state": {
            "_model_module": "@jupyter-widgets/controls",
            "_model_module_version": "1.5.0",
            "_model_name": "ProgressStyleModel",
            "_view_count": null,
            "_view_module": "@jupyter-widgets/base",
            "_view_module_version": "1.2.0",
            "_view_name": "StyleView",
            "bar_color": "black",
            "description_width": ""
          }
        },
        "40957b09aa05443180216722714a88df": {
          "model_module": "@jupyter-widgets/controls",
          "model_name": "FloatProgressModel",
          "model_module_version": "1.5.0",
          "state": {
            "_dom_classes": [],
            "_model_module": "@jupyter-widgets/controls",
            "_model_module_version": "1.5.0",
            "_model_name": "FloatProgressModel",
            "_view_count": null,
            "_view_module": "@jupyter-widgets/controls",
            "_view_module_version": "1.5.0",
            "_view_name": "ProgressView",
            "bar_style": "",
            "description": "",
            "description_tooltip": null,
            "layout": "IPY_MODEL_7fd932fbdc324381a3026ae0c248f295",
            "max": 100,
            "min": 0,
            "orientation": "horizontal",
            "style": "IPY_MODEL_34cd751d1c804bd087364f0d337309f8",
            "value": 99
          }
        },
        "7fd932fbdc324381a3026ae0c248f295": {
          "model_module": "@jupyter-widgets/base",
          "model_name": "LayoutModel",
          "model_module_version": "1.2.0",
          "state": {
            "_model_module": "@jupyter-widgets/base",
            "_model_module_version": "1.2.0",
            "_model_name": "LayoutModel",
            "_view_count": null,
            "_view_module": "@jupyter-widgets/base",
            "_view_module_version": "1.2.0",
            "_view_name": "LayoutView",
            "align_content": null,
            "align_items": null,
            "align_self": null,
            "border": null,
            "bottom": null,
            "display": null,
            "flex": null,
            "flex_flow": null,
            "grid_area": null,
            "grid_auto_columns": null,
            "grid_auto_flow": null,
            "grid_auto_rows": null,
            "grid_column": null,
            "grid_gap": null,
            "grid_row": null,
            "grid_template_areas": null,
            "grid_template_columns": null,
            "grid_template_rows": null,
            "height": null,
            "justify_content": null,
            "justify_items": null,
            "left": null,
            "margin": null,
            "max_height": null,
            "max_width": null,
            "min_height": null,
            "min_width": null,
            "object_fit": null,
            "object_position": null,
            "order": null,
            "overflow": null,
            "overflow_x": null,
            "overflow_y": null,
            "padding": null,
            "right": null,
            "top": null,
            "visibility": null,
            "width": "auto"
          }
        },
        "34cd751d1c804bd087364f0d337309f8": {
          "model_module": "@jupyter-widgets/controls",
          "model_name": "ProgressStyleModel",
          "model_module_version": "1.5.0",
          "state": {
            "_model_module": "@jupyter-widgets/controls",
            "_model_module_version": "1.5.0",
            "_model_name": "ProgressStyleModel",
            "_view_count": null,
            "_view_module": "@jupyter-widgets/base",
            "_view_module_version": "1.2.0",
            "_view_name": "StyleView",
            "bar_color": "black",
            "description_width": ""
          }
        }
      }
    }
  },
  "nbformat": 4,
  "nbformat_minor": 0
}